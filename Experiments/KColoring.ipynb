{
 "cells": [
  {
   "cell_type": "code",
   "execution_count": 5,
   "id": "7a9ace6f",
   "metadata": {},
   "outputs": [],
   "source": [
    "partitions_allocs = {}"
   ]
  },
  {
   "cell_type": "code",
   "execution_count": 7,
   "id": "8100908f",
   "metadata": {},
   "outputs": [],
   "source": [
    "partitions = [set([]) for _ in range(4)]\n",
    "for p in partitions_allocs:\n",
    "    partitions[partitions_allocs[p]].add(p)\n",
    "\n",
    "    "
   ]
  },
  {
   "cell_type": "code",
   "execution_count": 8,
   "id": "2c11f008",
   "metadata": {},
   "outputs": [
    {
     "name": "stdout",
     "output_type": "stream",
     "text": [
      "[{'U0380SE0988', 'U0374EAR2LE', 'U03FY5UTR0V', 'U03F885R8RY', 'U03KE692EAD', 'U037B3YA58A', 'U037B3TDHH9', 'U037PN189CZ'}, {'U038G9P95NV', 'U037877L813', 'U03JTV92B9C', 'U037PN26G81', 'U0378799RBP', 'U03JTL5F40J', 'U036WFS14UF'}, {'U039CTEV004', 'U03JX7LG9BP', 'U037B3WALKU', 'U037B3U94SX', 'U036WFT903H', 'U03AZ1RK874', 'U037B3YC598'}, {'U03HL19BJNB', 'U0380SF7Z6C', 'U0374EC615L', 'U037B3X8Z8A', 'U037B3UBQTV', 'U03KE386318'}]\n"
     ]
    }
   ],
   "source": [
    "print(partitions)"
   ]
  },
  {
   "cell_type": "code",
   "execution_count": 11,
   "id": "05a077cc",
   "metadata": {},
   "outputs": [],
   "source": [
    "partitions_alloc = partitions_allocs"
   ]
  },
  {
   "cell_type": "code",
   "execution_count": 13,
   "id": "41eafa5e",
   "metadata": {},
   "outputs": [],
   "source": [
    "MIN_NUM_MEMS = 3"
   ]
  },
  {
   "cell_type": "code",
   "execution_count": 14,
   "id": "a47b2650",
   "metadata": {},
   "outputs": [],
   "source": [
    "import random"
   ]
  },
  {
   "cell_type": "code",
   "execution_count": 40,
   "id": "4a9d1386",
   "metadata": {},
   "outputs": [
    {
     "name": "stdout",
     "output_type": "stream",
     "text": [
      "[set(), {'U03F885R8RY'}, {'U037877L813', 'U03JTL5F40J'}, {'U039CTEV004', 'U037B3YC598'}]\n",
      "HERE\n",
      "[set(), set(), set(), set(), {'U039CTEV004', 'U037B3YC598'}, {'U03F885R8RY', 'U037877L813', 'U03JTL5F40J'}]\n",
      "[set(), {'U039CTEV004', 'U037877L813', 'U037B3YC598', 'U03F885R8RY', 'U03JTL5F40J'}]\n",
      "1 U039CTEV004,U037877L813,U037B3YC598,U03F885R8RY,U03JTL5F40J\n",
      "{}\n"
     ]
    }
   ],
   "source": [
    "try:\n",
    "    right_swiped = []\n",
    "    nook_part_id = {}\n",
    "    nooks_allocs = {}\n",
    "    partitioned_nooks_members = [set([]) for i in range(len(partitions))]\n",
    "    random.shuffle(right_swiped)\n",
    "    right_swiped_set = set(right_swiped)\n",
    "    i = 0\n",
    "    partitions_has_changed = False\n",
    "    for member in set(right_swiped_set):\n",
    "        if member not in partitions_alloc:\n",
    "            partitions_has_changed = True\n",
    "            partitions[i].add(member)\n",
    "            partitions_alloc[member] = i\n",
    "            i = (i + 1) % len(partitions)\n",
    "    if partitions_has_changed:\n",
    "        my_date = datetime.date.today()  # if date is 01/01/2018\n",
    "        year, week_num, day_of_week = my_date.isocalendar()\n",
    "\n",
    "    for p in range(len(partitions)):\n",
    "        for member in partitions[p]:\n",
    "            if member in right_swiped_set:\n",
    "                partitioned_nooks_members[p].add(member)\n",
    "    partitioned_nooks_members.sort(key=len)\n",
    "\n",
    "    start_merge_index = 0\n",
    "    last_merge_index = len(partitioned_nooks_members) - 1\n",
    "    print(partitioned_nooks_members)\n",
    "\n",
    "    for i in range(len(partitioned_nooks_members)):\n",
    "        if len(partitioned_nooks_members[i]) == 0:\n",
    "            start_merge_index = i + 1\n",
    "        if len(partitioned_nooks_members[i]) >= MIN_NUM_MEMS:\n",
    "            last_merge_index = i - 1\n",
    "    i = start_merge_index\n",
    "    j = len(partitioned_nooks_members) - 1\n",
    "    merged = {i: i for i in range(len(partitions))}\n",
    "    merge_idx = len(partitions)\n",
    "    while i <= last_merge_index:\n",
    "        total_num = len(partitioned_nooks_members[i])\n",
    "        if total_num < MIN_NUM_MEMS:\n",
    "            merged[i] = merge_idx\n",
    "        i += 1\n",
    "        while total_num < MIN_NUM_MEMS and i < len(\n",
    "        partitioned_nooks_members\n",
    "            ):\n",
    "            total_num += len(partitioned_nooks_members[i])\n",
    "            merged[i] = merge_idx\n",
    "            i += 1\n",
    "        merge_idx += 1\n",
    "    \n",
    "\n",
    "\n",
    "    nook_mems = [set([]) for _ in range(merge_idx)]\n",
    "    for i in range(len(partitions)):\n",
    "        nook_mems[merged[i]] = nook_mems[merged[i]].union(\n",
    "            partitioned_nooks_members[i]\n",
    "        )\n",
    "    nook_mems.sort(key=len)\n",
    "    n_nook_mems = []\n",
    "    for n in nook_mems:\n",
    "        if n:\n",
    "            n_nook_mems.append(n)\n",
    "    \n",
    "    print(\"HERE\")\n",
    "    print(nook_mems)\n",
    "    if len(n_nook_mems) > 1 and len(n_nook_mems[0])< MIN_NUM_MEMS:\n",
    "        n_nook_mems[1] = n_nook_mems[1].union({k for k in n_nook_mems[0]})\n",
    "        n_nook_mems[0] = set([])\n",
    "    print(n_nook_mems)\n",
    "\n",
    "    for merged_part_idx in range(len(n_nook_mems)):\n",
    "\n",
    "        if n_nook_mems[merged_part_idx]:\n",
    "            nook_info = {\n",
    "            \n",
    "            }\n",
    "            nook_info[\"members\"] = \",\".join(list(n_nook_mems[merged_part_idx])\n",
    "            )\n",
    "            print(merged_part_idx, nook_info[\"members\"])\n",
    "            #nooks_allocs[nook_part_i.inserted_id] = nook_info[\"members\"]\n",
    "            #nook_part_id[merged_part_idx] = nook_part_i.inserted_id\n",
    "\n",
    "    \n",
    "    print(nooks_allocs)\n",
    "    \n",
    "\n",
    "except Exception as e:\n",
    "    print(e)"
   ]
  },
  {
   "cell_type": "code",
   "execution_count": null,
   "id": "faf1bbe6",
   "metadata": {},
   "outputs": [],
   "source": []
  }
 ],
 "metadata": {
  "kernelspec": {
   "display_name": "slack",
   "language": "python",
   "name": "slack"
  },
  "language_info": {
   "codemirror_mode": {
    "name": "ipython",
    "version": 3
   },
   "file_extension": ".py",
   "mimetype": "text/x-python",
   "name": "python",
   "nbconvert_exporter": "python",
   "pygments_lexer": "ipython3",
   "version": "3.9.7"
  }
 },
 "nbformat": 4,
 "nbformat_minor": 5
}
