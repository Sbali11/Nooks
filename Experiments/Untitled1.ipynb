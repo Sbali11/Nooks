{
 "cells": [
  {
   "cell_type": "code",
   "execution_count": 45,
   "id": "2f917047",
   "metadata": {},
   "outputs": [],
   "source": [
    "pp = [\n",
    "    {\n",
    "        0: \"U038G9P95NV\",1: \"U0380SF7Z6C\",2: \"U03HL19BJNB\",3: \"U03JTV92B9C\",4: \"U0374EC615L\",5: \"U0378799RBP\",6: \"U0380SE0988\",8: \"U03AZ1RK874\"\n",
    "    }, \n",
    "    {\n",
    "        0: \"U021UQA3Q9Y\",2: \"U036WFT903H\",3: \"U03F885R8RY\",4: \"U037PN189CZ\",5: \"U03FY5UTR0V\",6: \"U037877L813\",7: \"U037B3X8Z8A\"\n",
    "    }, \n",
    "    {\n",
    "        0: \"U03KE692EAD\",1: \"U037B3YC598\",2: \"U037B3UBQTV\",3: \"U037B3U94SX\",4: \"U037DE1FA0L\",5: \"U03JX7LG9BP\",6: \"U037B3WALKU\",7: \"U03JTL5F40J\"\n",
    "    }\n",
    "]"
   ]
  },
  {
   "cell_type": "code",
   "execution_count": 46,
   "id": "5efb10ca",
   "metadata": {},
   "outputs": [],
   "source": [
    "partitions_alloc = {}\n",
    "partitions = []\n",
    "MIN_NUM_MEMS = 3\n",
    "nooks_allocs = {}"
   ]
  },
  {
   "cell_type": "code",
   "execution_count": 47,
   "id": "f178752d",
   "metadata": {},
   "outputs": [],
   "source": [
    "right_swiped= [\"U0380SE0988\", \"U0380SF7Z6C\", \"U037877L813\", \"U0374EAR2LE\", \"U03JTL5F40J\", \"U03KE386318\"]"
   ]
  },
  {
   "cell_type": "code",
   "execution_count": 48,
   "id": "04dc80cc",
   "metadata": {},
   "outputs": [
    {
     "name": "stdout",
     "output_type": "stream",
     "text": [
      "U038G9P95NV\n",
      "U0380SF7Z6C\n",
      "U03HL19BJNB\n",
      "U03JTV92B9C\n",
      "U0374EC615L\n",
      "U0378799RBP\n",
      "U0380SE0988\n",
      "U03AZ1RK874\n",
      "U021UQA3Q9Y\n",
      "U036WFT903H\n",
      "U03F885R8RY\n",
      "U037PN189CZ\n",
      "U03FY5UTR0V\n",
      "U037877L813\n",
      "U037B3X8Z8A\n",
      "U03KE692EAD\n",
      "U037B3YC598\n",
      "U037B3UBQTV\n",
      "U037B3U94SX\n",
      "U037DE1FA0L\n",
      "U03JX7LG9BP\n",
      "U037B3WALKU\n",
      "U03JTL5F40J\n"
     ]
    }
   ],
   "source": [
    "for i, p_list in enumerate(pp):\n",
    "    partitions.append([p_list[v] for v in p_list])\n",
    "    for v in p_list:\n",
    "        if p_list[v] in p_alloc:\n",
    "            print(p_list[v])\n",
    "        partitions_alloc[p_list[v]] = i\n",
    "        "
   ]
  },
  {
   "cell_type": "code",
   "execution_count": 49,
   "id": "bedd061b",
   "metadata": {},
   "outputs": [
    {
     "name": "stdout",
     "output_type": "stream",
     "text": [
      "[['U038G9P95NV', 'U0380SF7Z6C', 'U03HL19BJNB', 'U03JTV92B9C', 'U0374EC615L', 'U0378799RBP', 'U0380SE0988', 'U03AZ1RK874', 'U03KE386318'], ['U021UQA3Q9Y', 'U036WFT903H', 'U03F885R8RY', 'U037PN189CZ', 'U03FY5UTR0V', 'U037877L813', 'U037B3X8Z8A', 'U0374EAR2LE'], ['U03KE692EAD', 'U037B3YC598', 'U037B3UBQTV', 'U037B3U94SX', 'U037DE1FA0L', 'U03JX7LG9BP', 'U037B3WALKU', 'U03JTL5F40J']]\n",
      "[{'U03JTL5F40J'}, {'U037877L813', 'U0374EAR2LE'}, {'U0380SE0988', 'U03KE386318', 'U0380SF7Z6C'}]\n",
      "{0: 3, 1: 3, 2: 2}\n",
      "HERE U0380SE0988,U03KE386318,U0380SF7Z6C\n",
      "HERE U037877L813,U03JTL5F40J,U0374EAR2LE\n"
     ]
    }
   ],
   "source": [
    "import random\n",
    "import datetime\n",
    "\n",
    "try:\n",
    "    nook_part_id = {}\n",
    "    partitioned_nooks_members = [set([]) for i in range(len(partitions))]\n",
    "    random.shuffle(right_swiped)\n",
    "    right_swiped_set = set(right_swiped)\n",
    "    i = 0\n",
    "    partitions_has_changed = False\n",
    "    for member in set(right_swiped_set):\n",
    "        if member not in partitions_alloc:\n",
    "            partitions_has_changed = True\n",
    "            partitions[i].append(member)\n",
    "            partitions_alloc[member] = i\n",
    "            i = (i + 1) % len(partitions)\n",
    "    if partitions_has_changed:\n",
    "        my_date = datetime.date.today()  # if date is 01/01/2018\n",
    "        year, week_num, day_of_week = my_date.isocalendar()\n",
    "    print(partitions)\n",
    "\n",
    "    for p in range(len(partitions)):\n",
    "        for member in partitions[p]:\n",
    "            if member in right_swiped_set:\n",
    "                partitioned_nooks_members[p].add(member)\n",
    "    partitioned_nooks_members.sort(key=len)\n",
    "\n",
    "    start_merge_index = 0\n",
    "    last_merge_index = len(partitioned_nooks_members) - 1\n",
    "    print(partitioned_nooks_members)\n",
    "\n",
    "    for i in range(len(partitioned_nooks_members)):\n",
    "        if len(partitioned_nooks_members[i]) == 0:\n",
    "            start_merge_index = i + 1\n",
    "        if len(partitioned_nooks_members[i]) >= MIN_NUM_MEMS:\n",
    "            last_merge_index = i - 1\n",
    "    i = start_merge_index\n",
    "    j = len(partitioned_nooks_members) - 1\n",
    "    merged = {i: i for i in range(len(partitions))}\n",
    "    merge_idx = len(partitions)\n",
    "    while i <= last_merge_index:\n",
    "        total_num = len(partitioned_nooks_members[i])\n",
    "        merged[i] = merge_idx\n",
    "        i += 1\n",
    "        while total_num < MIN_NUM_MEMS and i < len(\n",
    "        partitioned_nooks_members):\n",
    "            total_num += len(partitioned_nooks_members[i])\n",
    "            merged[i] = merge_idx\n",
    "            i += 1\n",
    "        merge_idx += 1\n",
    "    print(merged)\n",
    "    nook_mems = [set([]) for _ in range(merge_idx)]\n",
    "    for i in range(len(partitions)):\n",
    "        nook_mems[merged[i]] = nook_mems[merged[i]].union(\n",
    "            partitioned_nooks_members[i]\n",
    "        )\n",
    "    nook_mems.sort(key=len)\n",
    "    n_nook_mems = []\n",
    "    for n in nook_mems:\n",
    "        if n:\n",
    "            n_nook_mems.append(n)\n",
    "    \n",
    "    if len(n_nook_mems) > 1 and len(n_nook_mems[0])< MIN_NUM_MEMS:\n",
    "        n_nook_mems[1] = n_nook_mems[1].union({k for k in n_nook_mems[0]})\n",
    "        n_nook_mems[0] = set([])\n",
    "\n",
    "    for merged_part_idx in range(len(n_nook_mems)):\n",
    "\n",
    "        if n_nook_mems[merged_part_idx]:\n",
    "            nook_info = {\n",
    "            }\n",
    "            nook_info[\"members\"] = \",\".join(\n",
    "                list(n_nook_mems[merged_part_idx])\n",
    "            )\n",
    "            print(\"HERE\",nook_info[\"members\"])\n",
    "\n",
    "\n",
    "\n",
    "except Exception as e:\n",
    "    print(e)"
   ]
  },
  {
   "cell_type": "code",
   "execution_count": null,
   "id": "faefa7a4",
   "metadata": {},
   "outputs": [],
   "source": []
  }
 ],
 "metadata": {
  "kernelspec": {
   "display_name": "ml_cards",
   "language": "python",
   "name": "ml_cards"
  },
  "language_info": {
   "codemirror_mode": {
    "name": "ipython",
    "version": 3
   },
   "file_extension": ".py",
   "mimetype": "text/x-python",
   "name": "python",
   "nbconvert_exporter": "python",
   "pygments_lexer": "ipython3",
   "version": "3.7.12"
  }
 },
 "nbformat": 4,
 "nbformat_minor": 5
}
